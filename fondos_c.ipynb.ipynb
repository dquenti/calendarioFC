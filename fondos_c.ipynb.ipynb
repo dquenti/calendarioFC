{
 "cells": [
  {
   "cell_type": "markdown",
   "metadata": {},
   "source": [
    "# **Fondos Concursables**"
   ]
  },
  {
   "cell_type": "markdown",
   "metadata": {},
   "source": [
    "## 1. Librerías"
   ]
  },
  {
   "cell_type": "code",
   "execution_count": 5,
   "metadata": {},
   "outputs": [],
   "source": [
    "import streamlit as st\n",
    "import pandas as pd\n",
    "import plotly.express as px\n",
    "import nbconvert as nb\n",
    "# inhabilita warnings\n",
    "import warnings\n",
    "warnings.filterwarnings(\"ignore\")\n",
    "warnings.filterwarnings(\"ignore\", category=UserWarning, message=\"missing ScriptRunContext\")"
   ]
  },
  {
   "cell_type": "code",
   "execution_count": 6,
   "metadata": {},
   "outputs": [
    {
     "name": "stderr",
     "output_type": "stream",
     "text": [
      "2025-01-28 15:46:41.318 WARNING streamlit.runtime.scriptrunner_utils.script_run_context: Thread 'MainThread': missing ScriptRunContext! This warning can be ignored when running in bare mode.\n",
      "2025-01-28 15:46:41.926 \n",
      "  \u001b[33m\u001b[1mWarning:\u001b[0m to view this Streamlit app on a browser, run it with the following\n",
      "  command:\n",
      "\n",
      "    streamlit run C:\\Users\\aalei\\AppData\\Roaming\\Python\\Python312\\site-packages\\ipykernel_launcher.py [ARGUMENTS]\n",
      "2025-01-28 15:46:41.926 Thread 'MainThread': missing ScriptRunContext! This warning can be ignored when running in bare mode.\n"
     ]
    }
   ],
   "source": [
    "# Título de la aplicación\n",
    "st.title(\"Calendario de Proyectos Interactivo 🗓️\")\n",
    "\n",
    "# Leer el archivo Excel\n",
    "df = pd.read_excel(\"Fondos_c.xlsx\", sheet_name=\"AT Planning\")\n",
    "\n",
    "# Convertir las columnas de fechas a tipo datetime\n",
    "df[\"Start Date\"] = pd.to_datetime(df[\"Start Date\"], errors=\"coerce\")\n",
    "df[\"End Date\"] = pd.to_datetime(df[\"End Date\"], errors=\"coerce\")\n",
    "\n",
    "# Verificar si hay fechas no válidas\n",
    "if df[\"Start Date\"].isnull().any() or df[\"End Date\"].isnull().any():\n",
    "    st.warning(\"Algunas fechas no pudieron ser convertidas. Por favor, verifica el formato de las fechas en el archivo Excel.\")\n"
   ]
  },
  {
   "cell_type": "code",
   "execution_count": 7,
   "metadata": {},
   "outputs": [
    {
     "data": {
      "text/html": [
       "<div>\n",
       "<style scoped>\n",
       "    .dataframe tbody tr th:only-of-type {\n",
       "        vertical-align: middle;\n",
       "    }\n",
       "\n",
       "    .dataframe tbody tr th {\n",
       "        vertical-align: top;\n",
       "    }\n",
       "\n",
       "    .dataframe thead th {\n",
       "        text-align: right;\n",
       "    }\n",
       "</style>\n",
       "<table border=\"1\" class=\"dataframe\">\n",
       "  <thead>\n",
       "    <tr style=\"text-align: right;\">\n",
       "      <th></th>\n",
       "      <th>Project step</th>\n",
       "      <th>Description</th>\n",
       "      <th>Start Date</th>\n",
       "      <th>End Date</th>\n",
       "      <th>Progress</th>\n",
       "    </tr>\n",
       "  </thead>\n",
       "  <tbody>\n",
       "    <tr>\n",
       "      <th>0</th>\n",
       "      <td>1. Suvención a la Inserción en el Sector Produ...</td>\n",
       "      <td>https://anid.cl/concursos/subvencion-a-la-inse...</td>\n",
       "      <td>2025-03-04</td>\n",
       "      <td>2025-06-13</td>\n",
       "      <td>Próxima Apertura</td>\n",
       "    </tr>\n",
       "    <tr>\n",
       "      <th>1</th>\n",
       "      <td>1. Becas Chile Magíster</td>\n",
       "      <td>https://anid.cl/concursos/magister-becas-chile...</td>\n",
       "      <td>2025-04-10</td>\n",
       "      <td>2025-05-10</td>\n",
       "      <td>Proceso Cerrado</td>\n",
       "    </tr>\n",
       "    <tr>\n",
       "      <th>2</th>\n",
       "      <td>1. Beca Magíster Nacional</td>\n",
       "      <td>https://anid.cl/concursos/beca-de-magister-nac...</td>\n",
       "      <td>2025-10-23</td>\n",
       "      <td>2025-03-05</td>\n",
       "      <td>Proceso Cerrado</td>\n",
       "    </tr>\n",
       "    <tr>\n",
       "      <th>3</th>\n",
       "      <td>1. Concurso de Proyectos de Exploración</td>\n",
       "      <td>https://anid.cl/concursos/concurso-de-proyecto...</td>\n",
       "      <td>2024-11-28</td>\n",
       "      <td>2025-01-28</td>\n",
       "      <td>Proceso Abierto</td>\n",
       "    </tr>\n",
       "    <tr>\n",
       "      <th>4</th>\n",
       "      <td>1. Concurso de Equipamiento Científico y Tecno...</td>\n",
       "      <td>https://anid.cl/concursos/concurso-de-equipami...</td>\n",
       "      <td>2025-03-19</td>\n",
       "      <td>2025-05-29</td>\n",
       "      <td>Proceso Cerrado</td>\n",
       "    </tr>\n",
       "  </tbody>\n",
       "</table>\n",
       "</div>"
      ],
      "text/plain": [
       "                                        Project step  \\\n",
       "0  1. Suvención a la Inserción en el Sector Produ...   \n",
       "1                            1. Becas Chile Magíster   \n",
       "2                          1. Beca Magíster Nacional   \n",
       "3            1. Concurso de Proyectos de Exploración   \n",
       "4  1. Concurso de Equipamiento Científico y Tecno...   \n",
       "\n",
       "                                         Description Start Date   End Date  \\\n",
       "0  https://anid.cl/concursos/subvencion-a-la-inse... 2025-03-04 2025-06-13   \n",
       "1  https://anid.cl/concursos/magister-becas-chile... 2025-04-10 2025-05-10   \n",
       "2  https://anid.cl/concursos/beca-de-magister-nac... 2025-10-23 2025-03-05   \n",
       "3  https://anid.cl/concursos/concurso-de-proyecto... 2024-11-28 2025-01-28   \n",
       "4  https://anid.cl/concursos/concurso-de-equipami... 2025-03-19 2025-05-29   \n",
       "\n",
       "           Progress  \n",
       "0  Próxima Apertura  \n",
       "1   Proceso Cerrado  \n",
       "2   Proceso Cerrado  \n",
       "3   Proceso Abierto  \n",
       "4   Proceso Cerrado  "
      ]
     },
     "execution_count": 7,
     "metadata": {},
     "output_type": "execute_result"
    }
   ],
   "source": [
    "df.head()"
   ]
  },
  {
   "cell_type": "code",
   "execution_count": 8,
   "metadata": {},
   "outputs": [
    {
     "name": "stderr",
     "output_type": "stream",
     "text": [
      "2025-01-28 15:46:42.352 Thread 'MainThread': missing ScriptRunContext! This warning can be ignored when running in bare mode.\n",
      "2025-01-28 15:46:42.353 Thread 'MainThread': missing ScriptRunContext! This warning can be ignored when running in bare mode.\n",
      "2025-01-28 15:46:42.354 Thread 'MainThread': missing ScriptRunContext! This warning can be ignored when running in bare mode.\n",
      "2025-01-28 15:46:42.354 Thread 'MainThread': missing ScriptRunContext! This warning can be ignored when running in bare mode.\n"
     ]
    }
   ],
   "source": [
    "# Crear el gráfico de Gantt con Plotly\n",
    "st.write(\"### Gráfico de Gantt Interactivo\")\n",
    "fig = px.timeline(\n",
    "    df,\n",
    "    x_start=\"Start Date\",\n",
    "    x_end=\"End Date\",\n",
    "    y=\"Project step\",\n",
    "    title=\"Duración de los Proyectos\",\n",
    "    labels={\"Project step\": \"Proyecto\", \"Start Date\": \"Fecha de Inicio\", \"End Date\": \"Fecha de Fin\"},\n",
    "    color=\"Progress\",  # Colorear por progreso\n",
    "    hover_name=\"Description\",  # Mostrar la descripción al pasar el mouse\n",
    ")"
   ]
  },
  {
   "cell_type": "code",
   "execution_count": 9,
   "metadata": {},
   "outputs": [
    {
     "name": "stderr",
     "output_type": "stream",
     "text": [
      "2025-01-28 15:46:42.787 Thread 'MainThread': missing ScriptRunContext! This warning can be ignored when running in bare mode.\n",
      "2025-01-28 15:46:42.787 Thread 'MainThread': missing ScriptRunContext! This warning can be ignored when running in bare mode.\n",
      "2025-01-28 15:46:42.787 Thread 'MainThread': missing ScriptRunContext! This warning can be ignored when running in bare mode.\n",
      "2025-01-28 15:46:42.789 Thread 'MainThread': missing ScriptRunContext! This warning can be ignored when running in bare mode.\n"
     ]
    },
    {
     "data": {
      "text/plain": [
       "DeltaGenerator()"
      ]
     },
     "execution_count": 9,
     "metadata": {},
     "output_type": "execute_result"
    }
   ],
   "source": [
    "# Ajustar el diseño del gráfico\n",
    "fig.update_yaxes(autorange=\"reversed\")  # Invertir el eje Y\n",
    "fig.update_layout(\n",
    "    xaxis_title=\"Fecha\",\n",
    "    yaxis_title=\"Proyecto\",\n",
    "    showlegend=True,\n",
    "    height=600,  # Altura del gráfico\n",
    ")\n",
    "\n",
    "# Mostrar el gráfico en la aplicación\n",
    "st.plotly_chart(fig, use_container_width=True)"
   ]
  },
  {
   "cell_type": "code",
   "execution_count": 10,
   "metadata": {},
   "outputs": [
    {
     "name": "stderr",
     "output_type": "stream",
     "text": [
      "2025-01-28 15:46:42.802 Thread 'MainThread': missing ScriptRunContext! This warning can be ignored when running in bare mode.\n",
      "2025-01-28 15:46:42.803 Thread 'MainThread': missing ScriptRunContext! This warning can be ignored when running in bare mode.\n",
      "2025-01-28 15:46:42.804 Thread 'MainThread': missing ScriptRunContext! This warning can be ignored when running in bare mode.\n",
      "2025-01-28 15:46:42.804 Thread 'MainThread': missing ScriptRunContext! This warning can be ignored when running in bare mode.\n",
      "2025-01-28 15:46:42.846 Thread 'MainThread': missing ScriptRunContext! This warning can be ignored when running in bare mode.\n",
      "2025-01-28 15:46:42.847 Thread 'MainThread': missing ScriptRunContext! This warning can be ignored when running in bare mode.\n"
     ]
    },
    {
     "data": {
      "text/plain": [
       "DeltaGenerator()"
      ]
     },
     "execution_count": 10,
     "metadata": {},
     "output_type": "execute_result"
    }
   ],
   "source": [
    "# Mostrar el dataframe en la aplicación (opcional)\n",
    "st.write(\"### Datos de los Proyectos\")\n",
    "st.dataframe(df)"
   ]
  },
  {
   "cell_type": "code",
   "execution_count": 11,
   "metadata": {},
   "outputs": [
    {
     "name": "stderr",
     "output_type": "stream",
     "text": [
      "2025-01-28 15:46:42.857 Thread 'MainThread': missing ScriptRunContext! This warning can be ignored when running in bare mode.\n",
      "2025-01-28 15:46:42.862 Thread 'MainThread': missing ScriptRunContext! This warning can be ignored when running in bare mode.\n",
      "2025-01-28 15:46:42.863 Thread 'MainThread': missing ScriptRunContext! This warning can be ignored when running in bare mode.\n",
      "2025-01-28 15:46:42.863 Thread 'MainThread': missing ScriptRunContext! This warning can be ignored when running in bare mode.\n",
      "2025-01-28 15:46:42.864 Thread 'MainThread': missing ScriptRunContext! This warning can be ignored when running in bare mode.\n",
      "2025-01-28 15:46:42.865 Thread 'MainThread': missing ScriptRunContext! This warning can be ignored when running in bare mode.\n",
      "2025-01-28 15:46:42.866 Thread 'MainThread': missing ScriptRunContext! This warning can be ignored when running in bare mode.\n",
      "2025-01-28 15:46:42.866 Thread 'MainThread': missing ScriptRunContext! This warning can be ignored when running in bare mode.\n"
     ]
    }
   ],
   "source": [
    "# Agregar un pie de página\n",
    "st.write(\"---\")\n",
    "st.write(\"Creado con ❤️ usando Streamlit y Plotly\")"
   ]
  }
 ],
 "metadata": {
  "colab": {
   "provenance": [],
   "toc_visible": true
  },
  "hide_input": false,
  "kernelspec": {
   "display_name": "Python 3",
   "language": "python",
   "name": "python3"
  },
  "language_info": {
   "codemirror_mode": {
    "name": "ipython",
    "version": 3
   },
   "file_extension": ".py",
   "mimetype": "text/x-python",
   "name": "python",
   "nbconvert_exporter": "python",
   "pygments_lexer": "ipython3",
   "version": "3.12.2"
  },
  "latex_envs": {
   "LaTeX_envs_menu_present": true,
   "autoclose": false,
   "autocomplete": true,
   "bibliofile": "biblio.bib",
   "cite_by": "apalike",
   "current_citInitial": 1,
   "eqLabelWithNumbers": true,
   "eqNumInitial": 1,
   "hotkeys": {
    "equation": "Ctrl-E",
    "itemize": "Ctrl-I"
   },
   "labels_anchors": false,
   "latex_user_defs": false,
   "report_style_numbering": false,
   "user_envs_cfg": false
  },
  "toc": {
   "base_numbering": 1,
   "nav_menu": {},
   "number_sections": true,
   "sideBar": true,
   "skip_h1_title": false,
   "title_cell": "Table of Contents",
   "title_sidebar": "Contents",
   "toc_cell": false,
   "toc_position": {
    "height": "calc(100% - 180px)",
    "left": "10px",
    "top": "150px",
    "width": "165px"
   },
   "toc_section_display": true,
   "toc_window_display": false
  },
  "varInspector": {
   "cols": {
    "lenName": 16,
    "lenType": 16,
    "lenVar": 40
   },
   "kernels_config": {
    "python": {
     "delete_cmd_postfix": "",
     "delete_cmd_prefix": "del ",
     "library": "var_list.py",
     "varRefreshCmd": "print(var_dic_list())"
    },
    "r": {
     "delete_cmd_postfix": ") ",
     "delete_cmd_prefix": "rm(",
     "library": "var_list.r",
     "varRefreshCmd": "cat(var_dic_list()) "
    }
   },
   "types_to_exclude": [
    "module",
    "function",
    "builtin_function_or_method",
    "instance",
    "_Feature"
   ],
   "window_display": false
  }
 },
 "nbformat": 4,
 "nbformat_minor": 0
}
